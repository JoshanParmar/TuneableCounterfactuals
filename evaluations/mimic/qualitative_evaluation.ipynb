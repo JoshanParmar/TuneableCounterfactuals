{
 "cells": [
  {
   "cell_type": "code",
   "execution_count": 1,
   "metadata": {},
   "outputs": [],
   "source": [
    "import sys\n",
    "\n",
    "sys.path.append(\"../../src\")\n",
    "\n",
    "import pickle\n",
    "from tuneable_counterfactuals_explainer.explainer import Explainer\n",
    "\n",
    "import numpy as np\n",
    "import matplotlib.pyplot as plt\n",
    "import pandas as pd"
   ]
  },
  {
   "cell_type": "code",
   "execution_count": 2,
   "metadata": {},
   "outputs": [],
   "source": [
    "model = pickle.load(open(\"model/model.pkl\", \"rb\"))\n",
    "training_data = pickle.load(open(\"model/train_X.pkl\", \"rb\"))"
   ]
  },
  {
   "cell_type": "code",
   "execution_count": 4,
   "metadata": {},
   "outputs": [],
   "source": [
    "explainer = Explainer(\n",
    "    model,\n",
    "    training_data,\n",
    "    \"target\",\n",
    "    bounding_method=\"quantile\",\n",
    "    number_samples=20,\n",
    "    changeability_scores={\n",
    "        # 'bmi': 0.5,\n",
    "        \"weight_first\": 0.5,\n",
    "        \"platelet_first\": 1,\n",
    "        # 'sodium_first': 1,\n",
    "        # 'potassium_first':1,\n",
    "        \"tco2_first\": 1,\n",
    "        \"chloride_first\": 1,\n",
    "        \"creatinine_first\": 1,\n",
    "    },\n",
    ")"
   ]
  },
  {
   "cell_type": "code",
   "execution_count": 5,
   "metadata": {},
   "outputs": [
    {
     "name": "stderr",
     "output_type": "stream",
     "text": [
      "206it [00:02, 82.26it/s]                     "
     ]
    },
    {
     "name": "stdout",
     "output_type": "stream",
     "text": [
      "All nodes in this graph have been searched\n"
     ]
    },
    {
     "name": "stderr",
     "output_type": "stream",
     "text": [
      "\n"
     ]
    }
   ],
   "source": [
    "res = explainer.explain(\n",
    "    training_data.iloc[0],\n",
    "    store_historical_explainers=True,\n",
    "    # additional_threshold=0.45,\n",
    ")"
   ]
  },
  {
   "cell_type": "code",
   "execution_count": 6,
   "metadata": {},
   "outputs": [],
   "source": [
    "import graphviz"
   ]
  },
  {
   "cell_type": "code",
   "execution_count": 8,
   "metadata": {},
   "outputs": [],
   "source": [
    "converter = {\n",
    "    \"weight_first\": \"Weight\",\n",
    "    \"platelet_first\": \"Platelet\",\n",
    "    \"tco2_first\": \"TCO2\",\n",
    "    \"chloride_first\": \"Chloride\",\n",
    "    \"creatinine_first\": \"Creatinine\",\n",
    "}\n",
    "temp = [\n",
    "    ((str(i), \", \".join([converter[z] for z in x])), x, y)\n",
    "    for i, (x, y) in enumerate(res.items())\n",
    "]"
   ]
  },
  {
   "cell_type": "code",
   "execution_count": 9,
   "metadata": {},
   "outputs": [],
   "source": [
    "counts = [1, 5, 4, 3, 2, 1, 1, 2, 1, 1, 2, 1, 1]\n",
    "count_expanded = []\n",
    "for i in range(len(counts)):\n",
    "    count_expanded += [i] * counts[i]"
   ]
  },
  {
   "cell_type": "code",
   "execution_count": 10,
   "metadata": {},
   "outputs": [],
   "source": [
    "temp_2 = [(x, y) for x, y in zip(count_expanded, temp)]"
   ]
  },
  {
   "cell_type": "code",
   "execution_count": 12,
   "metadata": {},
   "outputs": [
    {
     "data": {
      "text/plain": [
       "'doctest-output/round-table.gv.pdf'"
      ]
     },
     "execution_count": 12,
     "metadata": {},
     "output_type": "execute_result"
    }
   ],
   "source": [
    "dot = graphviz.Digraph(comment=\"Search Visualization\")\n",
    "max = 20\n",
    "\n",
    "for stage in range(1, 10):\n",
    "    if stage > 1:\n",
    "        dot.node(\n",
    "            f\"cluster_{stage}\",\n",
    "            label=f\"Search Stage {stage-1}\",\n",
    "            style=\"filled\",\n",
    "            color=\"lightgrey\",\n",
    "            shape=\"box\",\n",
    "        )\n",
    "    else:\n",
    "        dot.node(\n",
    "            f\"cluster_{stage}\",\n",
    "            label=f\"Search Stage {stage-1}\",\n",
    "            color=\"lightgrey\",\n",
    "            shape=\"box\",\n",
    "            style=\"invis\",\n",
    "        )\n",
    "\n",
    "    if stage > 1:\n",
    "        dot.body.append(f'\"cluster_{stage-1}\" -> \"cluster_{stage}\" [style=invis]\\n')\n",
    "\n",
    "for stage, ((i, x), y, z) in temp_2[:max]:\n",
    "    if stage == 0:\n",
    "        dot.node(str(y), \"Initial Value\")\n",
    "    else:\n",
    "        dot.node(str(y), x + \"\\nScore: \" + format(z, \"f\"))\n",
    "    if len(y) > 0:\n",
    "        dot.edge(str(y[:-1]), str(y))\n",
    "    for sub_stage, ((sub_i, sub_x), sub_y, sub_z) in temp_2[:max]:\n",
    "        if stage < sub_stage:\n",
    "            dot.body.append(f'\"{str(y)}\" -> \"{str(sub_y)}\" [style=invis]\\n')\n",
    "            break\n",
    "\n",
    "dot.attr(layout=\"dot\")\n",
    "# dot.attr(rankdir='LR')\n",
    "# dot.attr(ranksep='30')\n",
    "dot.render(\"doctest-output/round-table.gv\").replace(\"\\\\\", \"/\")\n",
    "\"doctest-output/round-table.gv.pdf\""
   ]
  }
 ],
 "metadata": {
  "kernelspec": {
   "display_name": "venv",
   "language": "python",
   "name": "python3"
  },
  "language_info": {
   "codemirror_mode": {
    "name": "ipython",
    "version": 3
   },
   "file_extension": ".py",
   "mimetype": "text/x-python",
   "name": "python",
   "nbconvert_exporter": "python",
   "pygments_lexer": "ipython3",
   "version": "3.11.3"
  }
 },
 "nbformat": 4,
 "nbformat_minor": 2
}
