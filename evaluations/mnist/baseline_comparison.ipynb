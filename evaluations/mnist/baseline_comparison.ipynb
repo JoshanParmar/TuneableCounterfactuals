{
 "cells": [
  {
   "cell_type": "code",
   "execution_count": 1,
   "metadata": {},
   "outputs": [
    {
     "name": "stderr",
     "output_type": "stream",
     "text": [
      "/Users/joshanparmar/Development/TuneableCounterfactuals/venv/lib/python3.11/site-packages/tqdm/auto.py:21: TqdmWarning: IProgress not found. Please update jupyter and ipywidgets. See https://ipywidgets.readthedocs.io/en/stable/user_install.html\n",
      "  from .autonotebook import tqdm as notebook_tqdm\n"
     ]
    }
   ],
   "source": [
    "from alibi.explainers import Counterfactual\n",
    "\n",
    "import pickle\n",
    "import pandas as pd\n",
    "import numpy as np\n",
    "\n",
    "import matplotlib.pyplot as plt"
   ]
  },
  {
   "cell_type": "code",
   "execution_count": 2,
   "metadata": {},
   "outputs": [],
   "source": [
    "import tensorflow as tf\n",
    "tf.compat.v1.disable_eager_execution()"
   ]
  },
  {
   "cell_type": "code",
   "execution_count": 3,
   "metadata": {},
   "outputs": [],
   "source": [
    "model = pickle.load(open('model/model.pkl', 'rb'))\n",
    "training_data = pickle.load(open('model/training_data.pkl', 'rb'))"
   ]
  },
  {
   "cell_type": "code",
   "execution_count": 4,
   "metadata": {},
   "outputs": [],
   "source": [
    "model[0].feature_names_in_ = None"
   ]
  },
  {
   "cell_type": "code",
   "execution_count": 5,
   "metadata": {},
   "outputs": [],
   "source": [
    "x_train = training_data[training_data.columns[:-1]]"
   ]
  },
  {
   "cell_type": "code",
   "execution_count": 6,
   "metadata": {},
   "outputs": [
    {
     "data": {
      "text/plain": [
       "array([[  0.  ,   0.  ,   0.  ,   0.  ,   0.  ,   0.  ,   0.  ,   0.  ,\n",
       "          0.  ,   0.  ,   0.  ,   0.  ,   0.  ,   0.  ,   0.  ,   0.  ,\n",
       "          0.  ,   0.  ,   0.  ,   0.  ,   0.  ,   0.  ,   0.  ,   0.  ,\n",
       "          0.  ,   0.  ,   0.  ,   0.  ,   0.  ,   0.  ,   0.  ,   0.  ,\n",
       "          0.  ,   0.  ,   0.  ,   0.  ,   0.  ,   0.  ,   0.  ,   0.  ,\n",
       "          0.  ,   0.  ,   0.  ,   0.  ,   0.  ,   0.  ,   0.  ,   0.  ,\n",
       "          0.  ,   0.  ,   0.  ,   0.  ,   0.  ,   0.  ,   0.  ,   0.  ,\n",
       "          0.  ,   0.  ,   0.  ,   0.  ,   0.  ,   0.  ,   0.  ,   0.  ,\n",
       "          0.  ,   0.  ,   0.  ,   0.  ,   0.  ,   0.  ,   0.  ,   0.  ,\n",
       "          0.  ,   0.  ,   0.  ,   0.  ,   0.  ,   0.  ,   0.  ,   0.  ,\n",
       "          0.  ,   0.  ,   0.  ,   0.  ,   0.  ,   0.  ,   0.  ,   0.  ,\n",
       "          0.  ,   0.  ,   0.  ,   0.  ,   0.  ,   0.  ,   0.  ,   0.  ,\n",
       "          0.  ,   0.  ,   0.  ,   0.  ,   0.  ,   0.  ,   0.  ,   0.  ,\n",
       "          0.  ,   0.  ,   0.  ,   0.  ,   0.  ,   0.  ,   0.  ,   0.  ,\n",
       "          0.  ,   0.  ,   0.  ,   0.  ,   0.  ,   0.  ,   0.  ,   0.  ,\n",
       "          0.  ,   0.  ,   0.  ,  67.  , 186.  , 240.  , 253.  , 254.  ,\n",
       "        254.  , 254.  , 253.  , 249.  , 192.  ,  67.85,   0.  ,   0.  ,\n",
       "          0.  ,   0.  ,   0.  ,   0.  ,   0.  ,   0.  ,   0.  ,   0.  ,\n",
       "          0.  ,   0.  ,   0.  ,   0.  ,   0.  ,   8.  , 121.  , 239.  ,\n",
       "        253.  , 254.  , 254.  , 254.  , 254.  , 254.  , 254.  , 253.  ,\n",
       "        253.  , 227.  ,  69.85,   0.  ,   0.  ,   0.  ,   0.  ,   0.  ,\n",
       "          0.  ,   0.  ,   0.  ,   0.  ,   0.  ,   0.  ,   0.  ,   0.  ,\n",
       "          2.85, 135.  , 246.  , 253.  , 253.  , 254.  , 254.  , 254.  ,\n",
       "        254.  , 254.  , 254.  , 253.  , 253.  , 252.  , 184.85,  12.  ,\n",
       "          0.  ,   0.  ,   0.  ,   0.  ,   0.  ,   0.  ,   0.  ,   0.  ,\n",
       "          0.  ,   0.  ,   0.  ,   0.  , 118.7 , 244.  , 253.  , 253.  ,\n",
       "        253.  , 254.  , 254.  , 254.  , 254.  , 254.  , 254.  , 254.  ,\n",
       "        253.  , 253.  , 247.  ,  78.  ,   0.  ,   0.  ,   0.  ,   0.  ,\n",
       "          0.  ,   0.  ,   0.  ,   0.  ,   0.  ,   0.  ,   0.  ,  73.85,\n",
       "        236.  , 253.  , 253.  , 253.  , 254.  , 254.  , 254.  , 254.  ,\n",
       "        254.  , 254.  , 254.  , 254.  , 253.  , 253.  , 252.  , 160.  ,\n",
       "          0.  ,   0.  ,   0.  ,   0.  ,   0.  ,   0.  ,   0.  ,   0.  ,\n",
       "          0.  ,   0.  ,  15.  , 198.  , 253.  , 253.  , 253.  , 253.  ,\n",
       "        254.  , 254.  , 254.  , 255.  , 254.  , 254.  , 253.  , 254.  ,\n",
       "        254.  , 253.  , 253.  , 227.  ,   0.  ,   0.  ,   0.  ,   0.  ,\n",
       "          0.  ,   0.  ,   0.  ,   0.  ,   0.  ,   0.  , 112.  , 251.  ,\n",
       "        253.  , 253.  , 254.  , 253.  , 253.  , 254.  , 254.  , 254.  ,\n",
       "        254.  , 253.  , 253.  , 253.  , 253.  , 253.  , 253.  , 252.  ,\n",
       "         45.85,   0.  ,   0.  ,   0.  ,   0.  ,   0.  ,   0.  ,   0.  ,\n",
       "          0.  ,  12.  , 209.85, 252.  , 253.  , 253.  , 253.  , 253.  ,\n",
       "        253.  , 253.  , 254.  , 254.  , 253.  , 253.  , 252.  , 253.  ,\n",
       "        253.  , 253.  , 253.  , 253.  ,  98.55,   0.  ,   0.  ,   0.  ,\n",
       "          0.  ,   0.  ,   0.  ,   0.  ,   0.  ,  83.85, 251.  , 253.  ,\n",
       "        253.  , 253.  , 253.  , 253.  , 253.  , 253.  , 254.  , 254.  ,\n",
       "        253.  , 243.85, 247.  , 253.  , 253.  , 253.  , 253.  , 253.  ,\n",
       "        128.  ,   0.  ,   0.  ,   0.  ,   0.  ,   0.  ,   0.  ,   0.  ,\n",
       "          0.  , 156.85, 253.  , 253.  , 253.  , 253.  , 253.  , 253.  ,\n",
       "        251.  , 254.  , 254.  , 254.  , 252.  , 171.85, 232.  , 253.  ,\n",
       "        253.  , 253.  , 253.  , 253.  , 137.  ,   0.  ,   0.  ,   0.  ,\n",
       "          0.  ,   0.  ,   0.  ,   0.  ,   0.  , 238.85, 253.  , 253.  ,\n",
       "        254.  , 254.  , 253.  , 252.  , 251.  , 254.  , 255.  , 255.  ,\n",
       "        231.  , 128.  , 252.  , 253.  , 254.  , 254.  , 253.  , 253.  ,\n",
       "        142.  ,   0.  ,   0.  ,   0.  ,   0.  ,   0.  ,   0.  ,   0.  ,\n",
       "          0.  , 253.  , 253.  , 253.  , 254.  , 253.  , 253.  , 224.  ,\n",
       "        253.  , 254.  , 255.  , 254.  , 196.  , 169.  , 253.  , 253.  ,\n",
       "        253.85, 253.  , 253.  , 253.  , 119.  ,   0.  ,   0.  ,   0.  ,\n",
       "          0.  ,   0.  ,   0.  ,   0.  ,  45.  , 253.  , 253.  , 253.  ,\n",
       "        253.  , 253.  , 253.  , 247.  , 253.  , 254.  , 254.  , 253.  ,\n",
       "        215.  , 247.  , 253.  , 253.  , 253.  , 253.  , 253.  , 252.  ,\n",
       "         62.  ,   0.  ,   0.  ,   0.  ,   0.  ,   0.  ,   0.  ,   0.  ,\n",
       "         96.  , 253.  , 253.  , 253.  , 253.  , 253.  , 253.  , 253.  ,\n",
       "        253.  , 254.  , 254.  , 253.  , 252.  , 253.  , 253.  , 253.  ,\n",
       "        253.  , 253.  , 253.  , 210.  ,   6.  ,   0.  ,   0.  ,   0.  ,\n",
       "          0.  ,   0.  ,   0.  ,   0.  , 106.  , 253.  , 253.  , 253.  ,\n",
       "        253.  , 253.  , 253.  , 253.  , 254.  , 254.  , 254.  , 254.  ,\n",
       "        253.  , 253.  , 253.  , 253.  , 253.  , 253.  , 250.  , 106.  ,\n",
       "          0.  ,   0.  ,   0.  ,   0.  ,   0.  ,   0.  ,   0.  ,   0.  ,\n",
       "         89.85, 253.  , 253.  , 253.  , 253.  , 254.  , 254.  , 254.  ,\n",
       "        254.  , 254.  , 254.  , 254.  , 253.  , 253.  , 253.  , 253.  ,\n",
       "        253.  , 252.  , 190.  ,  14.  ,   0.  ,   0.  ,   0.  ,   0.  ,\n",
       "          0.  ,   0.  ,   0.  ,   0.  ,  38.  , 252.  , 253.  , 253.  ,\n",
       "        254.  , 254.  , 254.  , 254.  , 254.  , 254.  , 254.  , 254.  ,\n",
       "        254.  , 253.  , 253.  , 253.  , 253.  , 214.  ,  45.  ,   0.  ,\n",
       "          0.  ,   0.  ,   0.  ,   0.  ,   0.  ,   0.  ,   0.  ,   0.  ,\n",
       "          0.  , 200.  , 253.  , 253.  , 253.  , 254.  , 254.  , 254.  ,\n",
       "        254.  , 254.  , 254.  , 254.  , 254.  , 253.  , 253.  , 252.  ,\n",
       "        213.85,  64.  ,   0.  ,   0.  ,   0.  ,   0.  ,   0.  ,   0.  ,\n",
       "          0.  ,   0.  ,   0.  ,   0.  ,   0.  ,  85.  , 245.  , 253.  ,\n",
       "        253.  , 254.  , 254.  , 254.  , 254.  , 254.  , 254.  , 254.  ,\n",
       "        253.  , 253.  , 251.  , 178.85,  40.  ,   0.  ,   0.  ,   0.  ,\n",
       "          0.  ,   0.  ,   0.  ,   0.  ,   0.  ,   0.  ,   0.  ,   0.  ,\n",
       "          0.  ,   0.  ,  99.  , 232.  , 253.  , 253.  , 253.  , 254.  ,\n",
       "        254.  , 254.  , 254.  , 253.  , 253.  , 217.85,  96.85,   6.  ,\n",
       "          0.  ,   0.  ,   0.  ,   0.  ,   0.  ,   0.  ,   0.  ,   0.  ,\n",
       "          0.  ,   0.  ,   0.  ,   0.  ,   0.  ,   0.  ,   0.  ,   0.  ,\n",
       "         75.  , 169.  , 222.85, 234.  , 236.  , 234.  , 215.  , 168.  ,\n",
       "         82.  ,   0.  ,   0.  ,   0.  ,   0.  ,   0.  ,   0.  ,   0.  ,\n",
       "          0.  ,   0.  ,   0.  ,   0.  ,   0.  ,   0.  ,   0.  ,   0.  ,\n",
       "          0.  ,   0.  ,   0.  ,   0.  ,   0.  ,   0.  ,   0.  ,   0.  ,\n",
       "          0.  ,   0.  ,   0.  ,   0.  ,   0.  ,   0.  ,   0.  ,   0.  ,\n",
       "          0.  ,   0.  ,   0.  ,   0.  ,   0.  ,   0.  ,   0.  ,   0.  ,\n",
       "          0.  ,   0.  ,   0.  ,   0.  ,   0.  ,   0.  ,   0.  ,   0.  ,\n",
       "          0.  ,   0.  ,   0.  ,   0.  ,   0.  ,   0.  ,   0.  ,   0.  ,\n",
       "          0.  ,   0.  ,   0.  ,   0.  ,   0.  ,   0.  ,   0.  ,   0.  ,\n",
       "          0.  ,   0.  ,   0.  ,   0.  ,   0.  ,   0.  ,   0.  ,   0.  ,\n",
       "          0.  ,   0.  ,   0.  ,   0.  ,   0.  ,   0.  ,   0.  ,   0.  ,\n",
       "          0.  ,   0.  ,   0.  ,   0.  ,   0.  ,   0.  ,   0.  ,   0.  ,\n",
       "          0.  ,   0.  ,   0.  ,   0.  ,   0.  ,   0.  ,   0.  ,   0.  ]])"
      ]
     },
     "execution_count": 6,
     "metadata": {},
     "output_type": "execute_result"
    }
   ],
   "source": [
    "np.quantile(x_train.values, 0.95, axis=0).reshape(1,-1)"
   ]
  },
  {
   "cell_type": "code",
   "execution_count": 7,
   "metadata": {},
   "outputs": [],
   "source": [
    "def predict_fn(x): \n",
    "    prediction_array = np.array(x)\n",
    "    if len(prediction_array.shape) == 1:\n",
    "        prediction_array = np.array([prediction_array])\n",
    "        \n",
    "    return model.predict_proba(prediction_array)\n",
    "\n",
    "cf = Counterfactual(\n",
    "    predict_fn,\n",
    "    shape = (1,) + x_train.shape[1:], # shape of input data\n",
    "    feature_range = (np.quantile(x_train.values, 0.05, axis=0).reshape(1,-1), np.quantile(x_train.values, 0.95, axis=0).reshape(1,-1)), # feature range for the perturbed counterfactual instance\n",
    ")"
   ]
  },
  {
   "cell_type": "code",
   "execution_count": 8,
   "metadata": {},
   "outputs": [
    {
     "data": {
      "text/plain": [
       "<matplotlib.image.AxesImage at 0x28d68b650>"
      ]
     },
     "execution_count": 8,
     "metadata": {},
     "output_type": "execute_result"
    },
    {
     "data": {
      "image/png": "[encoded data removed]",
      "text/plain": [
       "<Figure size 640x480 with 1 Axes>"
      ]
     },
     "metadata": {},
     "output_type": "display_data"
    }
   ],
   "source": [
    "plt.imshow(np.array(x_train.iloc[0]).reshape(28, 28))"
   ]
  },
  {
   "cell_type": "code",
   "execution_count": 14,
   "metadata": {},
   "outputs": [],
   "source": [
    "id = 0\n",
    "\n",
    "res = cf.explain(np.array(x_train.iloc[id]).reshape(1, -1))"
   ]
  },
  {
   "cell_type": "code",
   "execution_count": 17,
   "metadata": {},
   "outputs": [
    {
     "name": "stderr",
     "output_type": "stream",
     "text": [
      "/Users/joshanparmar/Development/TuneableCounterfactuals/venv/lib/python3.11/site-packages/sklearn/base.py:458: UserWarning: X has feature names, but StandardScaler was fitted without feature names\n",
      "  warnings.warn(\n",
      "/Users/joshanparmar/Development/TuneableCounterfactuals/venv/lib/python3.11/site-packages/sklearn/base.py:458: UserWarning: X has feature names, but StandardScaler was fitted without feature names\n",
      "  warnings.warn(\n"
     ]
    },
    {
     "data": {
      "image/png": "[encoded data removed]",
      "text/plain": [
       "<Figure size 640x480 with 3 Axes>"
      ]
     },
     "metadata": {},
     "output_type": "display_data"
    }
   ],
   "source": [
    "\n",
    "fig, axs = plt.subplots(1, 3)\n",
    "plt.suptitle('Example \"traditional\" counterfactual',weight='bold')\n",
    "\n",
    "# Plot the first image\n",
    "axs[0].imshow(np.array(training_data.iloc[id][:-1]).astype(np.float32).reshape(28, 28), cmap='binary')\n",
    "axs[0].set_title('Original image')\n",
    "axs[0].set_xlabel(f'Classified as {model.predict(pd.DataFrame(training_data.iloc[id][:-1]).T)[0]} with\\nprobability {model.predict_proba(pd.DataFrame(training_data.iloc[id][:-1]).T).max():.2f}')\n",
    "\n",
    "# Add an arrow between the two images\n",
    "axs[1].arrow(x=0.25, y=0.5, dx=0.5, dy=0, width=0.1, color='k')\n",
    "axs[1].set_ylim([0, 1])\n",
    "\n",
    "# Plot the second image\n",
    "final = res.cf['X'].reshape(28, 28)\n",
    "axs[2].imshow(np.array(final).astype(np.float32).reshape(28, 28), cmap='binary')\n",
    "axs[2].set_title('New image',)\n",
    "axs[2].set_xlabel(f'Classified as {model.predict(pd.DataFrame(res.cf[\"X\"]))[0]} with\\nprobability {model.predict_proba(pd.DataFrame(res.cf[\"X\"])).max():.2f}')\n",
    "\n",
    "\n",
    "for ax in axs:\n",
    "    ax.set_xticks([])\n",
    "    ax.set_yticks([])\n",
    "    ax.spines['top'].set_visible(False)\n",
    "    ax.spines['right'].set_visible(False)\n",
    "    ax.spines['bottom'].set_visible(False)\n",
    "    ax.spines['left'].set_visible(False)\n",
    "    ax.set_aspect('equal')\n",
    "    \n",
    "plt.tight_layout()\n",
    "fig.subplots_adjust(top=1.3)\n",
    "fig.subplots_adjust(right=0.9)\n",
    "fig.subplots_adjust(left=0.1)\n",
    "plt.savefig('../../figures/mnist_counterfactual_trad_example.eps',bbox_inches='tight')\n",
    "plt.show()"
   ]
  },
  {
   "cell_type": "code",
   "execution_count": null,
   "metadata": {},
   "outputs": [
    {
     "data": {
      "text/plain": [
       "array([[<Axes: title={'center': '0'}>]], dtype=object)"
      ]
     },
     "execution_count": 9,
     "metadata": {},
     "output_type": "execute_result"
    },
    {
     "data": {
      "image/png": "[encoded data removed]",
      "text/plain": [
       "<Figure size 640x480 with 1 Axes>"
      ]
     },
     "metadata": {},
     "output_type": "display_data"
    }
   ],
   "source": [
    "pd.DataFrame(res.cf['X'].reshape(1,-1)).T.hist(bins=20)"
   ]
  },
  {
   "cell_type": "code",
   "execution_count": null,
   "metadata": {},
   "outputs": [],
   "source": []
  }
 ],
 "metadata": {
  "kernelspec": {
   "display_name": "venv",
   "language": "python",
   "name": "python3"
  },
  "language_info": {
   "codemirror_mode": {
    "name": "ipython",
    "version": 3
   },
   "file_extension": ".py",
   "mimetype": "text/x-python",
   "name": "python",
   "nbconvert_exporter": "python",
   "pygments_lexer": "ipython3",
   "version": "3.11.3"
  }
 },
 "nbformat": 4,
 "nbformat_minor": 2
}
