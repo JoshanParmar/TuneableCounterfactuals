{
 "cells": [
  {
   "cell_type": "code",
   "execution_count": 10,
   "metadata": {},
   "outputs": [],
   "source": [
    "import sys\n",
    "sys.path.append('../../src')\n",
    "\n",
    "import pickle\n",
    "from explainer.explainer import Explainer\n",
    "\n",
    "import numpy as np\n",
    "import matplotlib.pyplot as plt\n",
    "import pandas as pd\n",
    "\n",
    "from tqdm import tqdm\n",
    "import random"
   ]
  },
  {
   "cell_type": "code",
   "execution_count": 11,
   "metadata": {},
   "outputs": [],
   "source": [
    "model = pickle.load(open('model/model.pkl', 'rb'))\n",
    "training_data = pickle.load(open('model/training_data.pkl', 'rb'))"
   ]
  },
  {
   "cell_type": "code",
   "execution_count": 12,
   "metadata": {},
   "outputs": [],
   "source": [
    "explainer = Explainer(\n",
    "    model,\n",
    "    training_data,\n",
    "    'target',\n",
    "    regressor='linear',\n",
    "    bounding_method='quantile'\n",
    ")"
   ]
  },
  {
   "cell_type": "code",
   "execution_count": 13,
   "metadata": {},
   "outputs": [],
   "source": [
    "results = {}"
   ]
  },
  {
   "cell_type": "code",
   "execution_count": 15,
   "metadata": {},
   "outputs": [
    {
     "name": "stderr",
     "output_type": "stream",
     "text": [
      "  0%|          | 0/25 [00:00<?, ?it/s]"
     ]
    },
    {
     "name": "stderr",
     "output_type": "stream",
     "text": [
      "  3%|▎         | 24/784 [03:54<2:04:01,  9.79s/it]\n",
      "  3%|▎         | 25/784 [04:02<2:02:54,  9.72s/it]\n",
      "  4%|▎         | 28/784 [04:54<2:12:35, 10.52s/it]\n",
      "  3%|▎         | 27/784 [04:10<1:56:58,  9.27s/it]\n",
      "  3%|▎         | 27/784 [05:39<2:38:37, 12.57s/it]\n",
      "  7%|▋         | 55/784 [14:55<3:17:43, 16.27s/it]\n",
      "  3%|▎         | 24/784 [05:26<2:52:09, 13.59s/it]\n",
      "  7%|▋         | 53/784 [09:04<2:05:03, 10.26s/it]\n",
      "  5%|▍         | 39/784 [06:58<2:13:15, 10.73s/it]\n",
      "  3%|▎         | 23/784 [03:48<2:05:56,  9.93s/it]\n",
      "  7%|▋         | 51/784 [10:08<2:25:41, 11.93s/it]t]\n",
      "  6%|▌         | 47/784 [08:35<2:14:42, 10.97s/it]t]\n",
      "  6%|▌         | 44/784 [07:37<2:08:14, 10.40s/it]t]\n",
      "  7%|▋         | 56/784 [08:43<1:53:30,  9.36s/it]t]\n",
      "  7%|▋         | 52/784 [07:51<1:50:41,  9.07s/it]t]\n",
      "  2%|▏         | 19/784 [02:52<1:55:37,  9.07s/it]t]\n",
      "  4%|▎         | 28/784 [04:14<1:54:26,  9.08s/it]  \n",
      "  8%|▊         | 61/784 [08:55<1:45:52,  8.79s/it]\n",
      "  6%|▌         | 47/784 [08:18<2:10:18, 10.61s/it]\n",
      "  4%|▎         | 28/784 [04:41<2:06:44, 10.06s/it]\n",
      "  5%|▍         | 38/784 [06:21<2:04:47, 10.04s/it]\n",
      "  4%|▍         | 34/784 [05:47<2:07:41, 10.22s/it]\n",
      "  3%|▎         | 23/784 [03:27<1:54:23,  9.02s/it]\n",
      "  8%|▊         | 64/784 [08:53<1:40:05,  8.34s/it]\n",
      "  4%|▎         | 29/784 [04:03<1:45:42,  8.40s/it]\n",
      "100%|██████████| 25/25 [2:43:31<00:00, 392.45s/it]\n"
     ]
    }
   ],
   "source": [
    "for i in tqdm(list(random.sample(range(len(training_data)), 25))):\n",
    "    results[i] = explainer.explain(\n",
    "        training_data.iloc[i],\n",
    "        additional_threshold=0.25\n",
    "    )"
   ]
  },
  {
   "cell_type": "code",
   "execution_count": 16,
   "metadata": {},
   "outputs": [],
   "source": [
    "with open('results.pkl', 'wb') as f:\n",
    "    pickle.dump(results, f)"
   ]
  }
 ],
 "metadata": {
  "kernelspec": {
   "display_name": "venv",
   "language": "python",
   "name": "python3"
  },
  "language_info": {
   "codemirror_mode": {
    "name": "ipython",
    "version": 3
   },
   "file_extension": ".py",
   "mimetype": "text/x-python",
   "name": "python",
   "nbconvert_exporter": "python",
   "pygments_lexer": "ipython3",
   "version": "3.11.3"
  }
 },
 "nbformat": 4,
 "nbformat_minor": 2
}
