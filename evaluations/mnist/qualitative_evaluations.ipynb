{
 "cells": [
  {
   "cell_type": "code",
   "execution_count": 39,
   "metadata": {},
   "outputs": [],
   "source": [
    "import sys\n",
    "sys.path.append('../../src')\n",
    "\n",
    "import pickle\n",
    "from explainer.explainer import Explainer\n",
    "\n",
    "import numpy as np\n",
    "import matplotlib.pyplot as plt\n",
    "import pandas as pd"
   ]
  },
  {
   "cell_type": "code",
   "execution_count": 40,
   "metadata": {},
   "outputs": [],
   "source": [
    "model = pickle.load(open('model/model.pkl', 'rb'))\n",
    "training_data = pickle.load(open('model/training_data.pkl', 'rb'))"
   ]
  },
  {
   "cell_type": "code",
   "execution_count": 3,
   "metadata": {},
   "outputs": [],
   "source": [
    "explainer = Explainer(\n",
    "    model,\n",
    "    training_data,\n",
    "    'target',\n",
    "    regressor='linear',\n",
    "    bounding_method='quantile',\n",
    ")"
   ]
  },
  {
   "cell_type": "code",
   "execution_count": 7,
   "metadata": {},
   "outputs": [],
   "source": [
    "results = []"
   ]
  },
  {
   "cell_type": "code",
   "execution_count": 8,
   "metadata": {},
   "outputs": [
    {
     "name": "stderr",
     "output_type": "stream",
     "text": [
      "  0%|          | 0/784 [00:00<?, ?it/s]"
     ]
    },
    {
     "name": "stderr",
     "output_type": "stream",
     "text": [
      "  8%|▊         | 59/784 [11:37<2:22:54, 11.83s/it]\n"
     ]
    }
   ],
   "source": [
    "results.append(explainer.explain(training_data.iloc[1], additional_threshold=-0.25))"
   ]
  },
  {
   "cell_type": "code",
   "execution_count": 11,
   "metadata": {},
   "outputs": [
    {
     "name": "stderr",
     "output_type": "stream",
     "text": [
      "  8%|▊         | 64/784 [12:54<2:25:09, 12.10s/it]\n"
     ]
    }
   ],
   "source": [
    "results.append(explainer.explain(training_data.iloc[1]))"
   ]
  },
  {
   "cell_type": "code",
   "execution_count": 12,
   "metadata": {},
   "outputs": [
    {
     "name": "stderr",
     "output_type": "stream",
     "text": [
      "  9%|▉         | 70/784 [14:42<2:30:05, 12.61s/it]\n"
     ]
    }
   ],
   "source": [
    "results.append(explainer.explain(training_data.iloc[1], additional_threshold=0.25))"
   ]
  },
  {
   "cell_type": "code",
   "execution_count": 38,
   "metadata": {},
   "outputs": [
    {
     "data": {
      "image/png": "[encoded data removed]",
      "text/plain": [
       "<Figure size 640x480 with 7 Axes>"
      ]
     },
     "metadata": {},
     "output_type": "display_data"
    }
   ],
   "source": [
    "fig, axs = plt.subplots(1, 7)\n",
    "plt.suptitle('Example counterfactual explanation',weight='bold')\n",
    "\n",
    "# Plot the first image\n",
    "axs[0].imshow(np.array(training_data.iloc[1][:-1]).astype(np.float32).reshape(28, 28), cmap='binary')\n",
    "axs[0].set_title('Original image')\n",
    "axs[0].set_xlabel(f'Classified as {model.predict(pd.DataFrame(training_data.iloc[1][:-1]).T)[0]} with\\nprobability {model.predict_proba(pd.DataFrame(training_data.iloc[1][:-1]).T).max():.2f}')\n",
    "\n",
    "# Add an arrow between the two images\n",
    "axs[1].arrow(x=0.25, y=0.5, dx=0.5, dy=0, width=0.1, color='k')\n",
    "axs[1].set_ylim([0, 1])\n",
    "\n",
    "# Plot the second image\n",
    "final = results[0][1].explanation_point\n",
    "final[results[0][1].explainable_variable] = results[0][1].get_arg_extrema()\n",
    "axs[2].imshow(np.array(final[:-1]).astype(np.float32).reshape(28, 28), cmap='binary')\n",
    "axs[2].set_title('New image',)\n",
    "axs[2].set_xlabel(f'Classified as {model.predict(pd.DataFrame(final[:-1]).T)[0]} with\\nprobability {model.predict_proba(pd.DataFrame(final[:-1]).T).max():.2f}')\n",
    "\n",
    "# Add an arrow between the two images\n",
    "axs[3].arrow(x=0.25, y=0.5, dx=0.5, dy=0, width=0.1, color='k')\n",
    "axs[3].set_ylim([0, 1])\n",
    "\n",
    "# Plot the third image\n",
    "final = results[1][1].explanation_point\n",
    "final[results[1][1].explainable_variable] = results[1][1].get_arg_extrema()\n",
    "axs[4].imshow(np.array(final[:-1]).astype(np.float32).reshape(28, 28), cmap='binary')\n",
    "axs[4].set_title('New image',)\n",
    "axs[4].set_xlabel(f'Classified as {model.predict(pd.DataFrame(final[:-1]).T)[0]} with\\nprobability {model.predict_proba(pd.DataFrame(final[:-1]).T).max():.2f}')\n",
    "\n",
    "# Add an arrow between the two images\n",
    "axs[5].arrow(x=0.25, y=0.5, dx=0.5, dy=0, width=0.1, color='k')\n",
    "axs[5].set_ylim([0, 1])\n",
    "\n",
    "# Plot the fourth image\n",
    "final = results[2][1].explanation_point\n",
    "final[results[2][1].explainable_variable] = results[2][1].get_arg_extrema()\n",
    "axs[6].imshow(np.array(final[:-1]).astype(np.float32).reshape(28, 28), cmap='binary')\n",
    "axs[6].set_title('New image',)\n",
    "axs[6].set_xlabel(f'Classified as {model.predict(pd.DataFrame(final[:-1]).T)[0]} with\\nprobability {model.predict_proba(pd.DataFrame(final[:-1]).T).max():.2f}')\n",
    "\n",
    "for ax in axs:\n",
    "    ax.set_xticks([])\n",
    "    ax.set_yticks([])\n",
    "    ax.spines['top'].set_visible(False)\n",
    "    ax.spines['right'].set_visible(False)\n",
    "    ax.spines['bottom'].set_visible(False)\n",
    "    ax.spines['left'].set_visible(False)\n",
    "    ax.set_aspect('equal')\n",
    "    \n",
    "plt.tight_layout()\n",
    "fig.subplots_adjust(top=1.5)\n",
    "fig.subplots_adjust(right=0.9)\n",
    "fig.subplots_adjust(left=0.1)\n",
    "plt.savefig('../../figures/mnist_counterfactual_example.eps',bbox_inches='tight')\n",
    "plt.show()"
   ]
  },
  {
   "cell_type": "code",
   "execution_count": null,
   "metadata": {},
   "outputs": [],
   "source": []
  }
 ],
 "metadata": {
  "kernelspec": {
   "display_name": "venv",
   "language": "python",
   "name": "python3"
  },
  "language_info": {
   "codemirror_mode": {
    "name": "ipython",
    "version": 3
   },
   "file_extension": ".py",
   "mimetype": "text/x-python",
   "name": "python",
   "nbconvert_exporter": "python",
   "pygments_lexer": "ipython3",
   "version": "3.11.3"
  }
 },
 "nbformat": 4,
 "nbformat_minor": 2
}
