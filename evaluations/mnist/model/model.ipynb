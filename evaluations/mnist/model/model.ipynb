{
 "cells": [
  {
   "cell_type": "code",
   "execution_count": 1,
   "metadata": {},
   "outputs": [],
   "source": [
    "import pickle\n",
    "import sklearn\n",
    "import numpy as np\n",
    "import pandas as pd\n",
    "import matplotlib.pyplot as plt\n",
    "\n",
    "from sklearn.datasets import fetch_openml\n",
    "from sklearn.model_selection import train_test_split\n",
    "from sklearn.neural_network import MLPClassifier\n",
    "from sklearn.pipeline import make_pipeline\n",
    "from sklearn.preprocessing import StandardScaler"
   ]
  },
  {
   "cell_type": "code",
   "execution_count": 2,
   "metadata": {},
   "outputs": [],
   "source": [
    "data = fetch_openml('mnist_784', parser='auto')\n",
    "train_x, test_x, train_y, test_y = train_test_split(data.data[data.target.isin(['0', '1'])], data.target[data.target.isin(['0', '1'])], test_size=0.2)"
   ]
  },
  {
   "cell_type": "code",
   "execution_count": 3,
   "metadata": {},
   "outputs": [
    {
     "name": "stdout",
     "output_type": "stream",
     "text": [
      "Iteration 1, loss = 0.90999997\n",
      "Iteration 2, loss = 0.33633561\n",
      "Iteration 3, loss = 0.14995247\n",
      "Iteration 4, loss = 0.07614022\n",
      "Iteration 5, loss = 0.04424352\n",
      "Iteration 6, loss = 0.03044535\n",
      "Iteration 7, loss = 0.02329154\n",
      "Iteration 8, loss = 0.02232309\n",
      "Iteration 9, loss = 0.02341397\n",
      "Iteration 10, loss = 0.01832869\n",
      "Iteration 11, loss = 0.01791221\n",
      "Iteration 12, loss = 0.01629685\n",
      "Iteration 13, loss = 0.01597347\n",
      "Iteration 14, loss = 0.01530570\n",
      "Iteration 15, loss = 0.01506645\n",
      "Iteration 16, loss = 0.01634409\n",
      "Iteration 17, loss = 0.01527451\n",
      "Iteration 18, loss = 0.01442311\n",
      "Iteration 19, loss = 0.01500299\n",
      "Iteration 20, loss = 0.02148734\n",
      "Iteration 21, loss = 0.01883258\n",
      "Iteration 22, loss = 0.01629399\n",
      "Iteration 23, loss = 0.01422806\n",
      "Iteration 24, loss = 0.01337072\n",
      "Iteration 25, loss = 0.01387586\n",
      "Iteration 26, loss = 0.01360061\n",
      "Iteration 27, loss = 0.01413241\n",
      "Iteration 28, loss = 0.01426737\n",
      "Iteration 29, loss = 0.01388041\n",
      "Iteration 30, loss = 0.01393029\n",
      "Iteration 31, loss = 0.02737848\n",
      "Iteration 32, loss = 0.01587735\n",
      "Iteration 33, loss = 0.01329697\n",
      "Iteration 34, loss = 0.01266995\n",
      "Iteration 35, loss = 0.01259478\n",
      "Iteration 36, loss = 0.01276458\n",
      "Iteration 37, loss = 0.01372658\n",
      "Iteration 38, loss = 0.01277361\n",
      "Iteration 39, loss = 0.01235962\n",
      "Iteration 40, loss = 0.01326272\n",
      "Iteration 41, loss = 0.01434998\n",
      "Iteration 42, loss = 0.01316688\n",
      "Iteration 43, loss = 0.01304662\n",
      "Iteration 44, loss = 0.01219706\n",
      "Iteration 45, loss = 0.01245781\n",
      "Iteration 46, loss = 0.01216111\n",
      "Iteration 47, loss = 0.01380730\n",
      "Iteration 48, loss = 0.01523686\n",
      "Iteration 49, loss = 0.01310280\n",
      "Iteration 50, loss = 0.01301485\n",
      "Iteration 51, loss = 0.01251014\n",
      "Iteration 52, loss = 0.01197889\n",
      "Iteration 53, loss = 0.01257051\n",
      "Iteration 54, loss = 0.01364817\n",
      "Iteration 55, loss = 0.01563467\n",
      "Iteration 56, loss = 0.01584021\n",
      "Iteration 57, loss = 0.01293688\n",
      "Iteration 58, loss = 0.01400698\n",
      "Iteration 59, loss = 0.01353483\n",
      "Iteration 60, loss = 0.01289918\n",
      "Iteration 61, loss = 0.01258667\n",
      "Iteration 62, loss = 0.01290688\n",
      "Iteration 63, loss = 0.01278511\n",
      "Training loss did not improve more than tol=0.000000 for 10 consecutive epochs. Stopping.\n"
     ]
    },
    {
     "data": {
      "text/html": [
       "<style>#sk-container-id-1 {color: black;}#sk-container-id-1 pre{padding: 0;}#sk-container-id-1 div.sk-toggleable {background-color: white;}#sk-container-id-1 label.sk-toggleable__label {cursor: pointer;display: block;width: 100%;margin-bottom: 0;padding: 0.3em;box-sizing: border-box;text-align: center;}#sk-container-id-1 label.sk-toggleable__label-arrow:before {content: \"▸\";float: left;margin-right: 0.25em;color: #696969;}#sk-container-id-1 label.sk-toggleable__label-arrow:hover:before {color: black;}#sk-container-id-1 div.sk-estimator:hover label.sk-toggleable__label-arrow:before {color: black;}#sk-container-id-1 div.sk-toggleable__content {max-height: 0;max-width: 0;overflow: hidden;text-align: left;background-color: #f0f8ff;}#sk-container-id-1 div.sk-toggleable__content pre {margin: 0.2em;color: black;border-radius: 0.25em;background-color: #f0f8ff;}#sk-container-id-1 input.sk-toggleable__control:checked~div.sk-toggleable__content {max-height: 200px;max-width: 100%;overflow: auto;}#sk-container-id-1 input.sk-toggleable__control:checked~label.sk-toggleable__label-arrow:before {content: \"▾\";}#sk-container-id-1 div.sk-estimator input.sk-toggleable__control:checked~label.sk-toggleable__label {background-color: #d4ebff;}#sk-container-id-1 div.sk-label input.sk-toggleable__control:checked~label.sk-toggleable__label {background-color: #d4ebff;}#sk-container-id-1 input.sk-hidden--visually {border: 0;clip: rect(1px 1px 1px 1px);clip: rect(1px, 1px, 1px, 1px);height: 1px;margin: -1px;overflow: hidden;padding: 0;position: absolute;width: 1px;}#sk-container-id-1 div.sk-estimator {font-family: monospace;background-color: #f0f8ff;border: 1px dotted black;border-radius: 0.25em;box-sizing: border-box;margin-bottom: 0.5em;}#sk-container-id-1 div.sk-estimator:hover {background-color: #d4ebff;}#sk-container-id-1 div.sk-parallel-item::after {content: \"\";width: 100%;border-bottom: 1px solid gray;flex-grow: 1;}#sk-container-id-1 div.sk-label:hover label.sk-toggleable__label {background-color: #d4ebff;}#sk-container-id-1 div.sk-serial::before {content: \"\";position: absolute;border-left: 1px solid gray;box-sizing: border-box;top: 0;bottom: 0;left: 50%;z-index: 0;}#sk-container-id-1 div.sk-serial {display: flex;flex-direction: column;align-items: center;background-color: white;padding-right: 0.2em;padding-left: 0.2em;position: relative;}#sk-container-id-1 div.sk-item {position: relative;z-index: 1;}#sk-container-id-1 div.sk-parallel {display: flex;align-items: stretch;justify-content: center;background-color: white;position: relative;}#sk-container-id-1 div.sk-item::before, #sk-container-id-1 div.sk-parallel-item::before {content: \"\";position: absolute;border-left: 1px solid gray;box-sizing: border-box;top: 0;bottom: 0;left: 50%;z-index: -1;}#sk-container-id-1 div.sk-parallel-item {display: flex;flex-direction: column;z-index: 1;position: relative;background-color: white;}#sk-container-id-1 div.sk-parallel-item:first-child::after {align-self: flex-end;width: 50%;}#sk-container-id-1 div.sk-parallel-item:last-child::after {align-self: flex-start;width: 50%;}#sk-container-id-1 div.sk-parallel-item:only-child::after {width: 0;}#sk-container-id-1 div.sk-dashed-wrapped {border: 1px dashed gray;margin: 0 0.4em 0.5em 0.4em;box-sizing: border-box;padding-bottom: 0.4em;background-color: white;}#sk-container-id-1 div.sk-label label {font-family: monospace;font-weight: bold;display: inline-block;line-height: 1.2em;}#sk-container-id-1 div.sk-label-container {text-align: center;}#sk-container-id-1 div.sk-container {/* jupyter's `normalize.less` sets `[hidden] { display: none; }` but bootstrap.min.css set `[hidden] { display: none !important; }` so we also need the `!important` here to be able to override the default hidden behavior on the sphinx rendered scikit-learn.org. See: https://github.com/scikit-learn/scikit-learn/issues/21755 */display: inline-block !important;position: relative;}#sk-container-id-1 div.sk-text-repr-fallback {display: none;}</style><div id=\"sk-container-id-1\" class=\"sk-top-container\"><div class=\"sk-text-repr-fallback\"><pre>Pipeline(steps=[(&#x27;standardscaler&#x27;, StandardScaler()),\n",
       "                (&#x27;mlpclassifier&#x27;,\n",
       "                 MLPClassifier(alpha=1, hidden_layer_sizes=(200, 200),\n",
       "                               max_iter=1000, random_state=21, tol=1e-09,\n",
       "                               verbose=10))])</pre><b>In a Jupyter environment, please rerun this cell to show the HTML representation or trust the notebook. <br />On GitHub, the HTML representation is unable to render, please try loading this page with nbviewer.org.</b></div><div class=\"sk-container\" hidden><div class=\"sk-item sk-dashed-wrapped\"><div class=\"sk-label-container\"><div class=\"sk-label sk-toggleable\"><input class=\"sk-toggleable__control sk-hidden--visually\" id=\"sk-estimator-id-1\" type=\"checkbox\" ><label for=\"sk-estimator-id-1\" class=\"sk-toggleable__label sk-toggleable__label-arrow\">Pipeline</label><div class=\"sk-toggleable__content\"><pre>Pipeline(steps=[(&#x27;standardscaler&#x27;, StandardScaler()),\n",
       "                (&#x27;mlpclassifier&#x27;,\n",
       "                 MLPClassifier(alpha=1, hidden_layer_sizes=(200, 200),\n",
       "                               max_iter=1000, random_state=21, tol=1e-09,\n",
       "                               verbose=10))])</pre></div></div></div><div class=\"sk-serial\"><div class=\"sk-item\"><div class=\"sk-estimator sk-toggleable\"><input class=\"sk-toggleable__control sk-hidden--visually\" id=\"sk-estimator-id-2\" type=\"checkbox\" ><label for=\"sk-estimator-id-2\" class=\"sk-toggleable__label sk-toggleable__label-arrow\">StandardScaler</label><div class=\"sk-toggleable__content\"><pre>StandardScaler()</pre></div></div></div><div class=\"sk-item\"><div class=\"sk-estimator sk-toggleable\"><input class=\"sk-toggleable__control sk-hidden--visually\" id=\"sk-estimator-id-3\" type=\"checkbox\" ><label for=\"sk-estimator-id-3\" class=\"sk-toggleable__label sk-toggleable__label-arrow\">MLPClassifier</label><div class=\"sk-toggleable__content\"><pre>MLPClassifier(alpha=1, hidden_layer_sizes=(200, 200), max_iter=1000,\n",
       "              random_state=21, tol=1e-09, verbose=10)</pre></div></div></div></div></div></div></div>"
      ],
      "text/plain": [
       "Pipeline(steps=[('standardscaler', StandardScaler()),\n",
       "                ('mlpclassifier',\n",
       "                 MLPClassifier(alpha=1, hidden_layer_sizes=(200, 200),\n",
       "                               max_iter=1000, random_state=21, tol=1e-09,\n",
       "                               verbose=10))])"
      ]
     },
     "execution_count": 3,
     "metadata": {},
     "output_type": "execute_result"
    }
   ],
   "source": [
    "clf = MLPClassifier(hidden_layer_sizes=(200,200),alpha=1, max_iter=1000, solver='adam', verbose=10,  random_state=21,tol=0.000000001)\n",
    "clf = make_pipeline(StandardScaler(), clf)\n",
    "clf.fit(train_x, train_y)"
   ]
  },
  {
   "cell_type": "code",
   "execution_count": 4,
   "metadata": {},
   "outputs": [
    {
     "name": "stderr",
     "output_type": "stream",
     "text": [
      "/Users/joshanparmar/Development/TuneableCounterfactuals/venv/lib/python3.11/site-packages/sklearn/base.py:465: UserWarning: X does not have valid feature names, but StandardScaler was fitted with feature names\n",
      "  warnings.warn(\n"
     ]
    },
    {
     "data": {
      "text/plain": [
       "0.9986468200270636"
      ]
     },
     "execution_count": 4,
     "metadata": {},
     "output_type": "execute_result"
    }
   ],
   "source": [
    "sklearn.metrics.accuracy_score(clf.predict(np.array(test_x)), test_y)"
   ]
  },
  {
   "cell_type": "code",
   "execution_count": 5,
   "metadata": {},
   "outputs": [],
   "source": [
    "train_x['target'] = train_y"
   ]
  },
  {
   "cell_type": "code",
   "execution_count": 6,
   "metadata": {},
   "outputs": [],
   "source": [
    "pickle.dump(clf, open('model.pkl', 'wb'))\n",
    "pickle.dump(train_x, open('training_data.pkl', 'wb'))"
   ]
  },
  {
   "cell_type": "code",
   "execution_count": null,
   "metadata": {},
   "outputs": [],
   "source": []
  }
 ],
 "metadata": {
  "kernelspec": {
   "display_name": "venv",
   "language": "python",
   "name": "python3"
  },
  "language_info": {
   "codemirror_mode": {
    "name": "ipython",
    "version": 3
   },
   "file_extension": ".py",
   "mimetype": "text/x-python",
   "name": "python",
   "nbconvert_exporter": "python",
   "pygments_lexer": "ipython3",
   "version": "3.11.3"
  }
 },
 "nbformat": 4,
 "nbformat_minor": 2
}
