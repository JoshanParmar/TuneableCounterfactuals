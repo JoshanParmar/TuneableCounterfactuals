{
 "cells": [
  {
   "cell_type": "code",
   "execution_count": 1,
   "metadata": {},
   "outputs": [
    {
     "name": "stderr",
     "output_type": "stream",
     "text": [
      "/Users/joshanparmar/Development/TuneableCounterfactuals/venv/lib/python3.11/site-packages/tqdm/auto.py:21: TqdmWarning: IProgress not found. Please update jupyter and ipywidgets. See https://ipywidgets.readthedocs.io/en/stable/user_install.html\n",
      "  from .autonotebook import tqdm as notebook_tqdm\n"
     ]
    }
   ],
   "source": [
    "import sys\n",
    "sys.path.append('../../src')\n",
    "\n",
    "import pickle\n",
    "from tuneable_counterfactuals_explainer.explainer import Explainer\n",
    "\n",
    "import numpy as np\n",
    "import matplotlib.pyplot as plt\n",
    "import pandas as pd\n",
    "\n",
    "from tqdm import tqdm\n",
    "import random\n",
    "\n",
    "from alibi.explainers import Counterfactual"
   ]
  },
  {
   "cell_type": "code",
   "execution_count": 2,
   "metadata": {},
   "outputs": [],
   "source": [
    "import tensorflow as tf\n",
    "tf.compat.v1.disable_eager_execution()"
   ]
  },
  {
   "cell_type": "code",
   "execution_count": 3,
   "metadata": {},
   "outputs": [],
   "source": [
    "model = pickle.load(open('model/model.pkl', 'rb'))\n",
    "training_data = pickle.load(open('model/training_data.pkl', 'rb'))\n",
    "model[0].feature_names_in_ = None"
   ]
  },
  {
   "cell_type": "code",
   "execution_count": 4,
   "metadata": {},
   "outputs": [],
   "source": [
    "x_train = training_data[training_data.columns[:-1]]"
   ]
  },
  {
   "cell_type": "code",
   "execution_count": 5,
   "metadata": {},
   "outputs": [],
   "source": [
    "with open('results.pkl', 'rb') as f:\n",
    "    old_results = pickle.load(f)"
   ]
  },
  {
   "cell_type": "code",
   "execution_count": 6,
   "metadata": {},
   "outputs": [],
   "source": [
    "to_eval = list(old_results.keys())"
   ]
  },
  {
   "cell_type": "code",
   "execution_count": 7,
   "metadata": {},
   "outputs": [],
   "source": [
    "def predict_fn(x): \n",
    "    prediction_array = np.array(x)\n",
    "    if len(prediction_array.shape) == 1:\n",
    "        prediction_array = np.array([prediction_array])\n",
    "        \n",
    "    return model.predict_proba(prediction_array)\n",
    "\n",
    "cf = Counterfactual(\n",
    "    predict_fn,\n",
    "    shape = (1,) + x_train.shape[1:], # shape of input data\n",
    "    # feature_range = (np.quantile(x_train.values.astype(float), 0.05, axis=0).reshape(1,-1), np.quantile(x_train.values.astype(float), 0.95, axis=0).reshape(1,-1)), # feature range for the perturbed counterfactual instance\n",
    "    # lam_init = 1e-3, # initial lambda value\n",
    ")"
   ]
  },
  {
   "cell_type": "code",
   "execution_count": 8,
   "metadata": {},
   "outputs": [
    {
     "name": "stderr",
     "output_type": "stream",
     "text": [
      "  0%|          | 0/25 [00:00<?, ?it/s]"
     ]
    },
    {
     "name": "stderr",
     "output_type": "stream",
     "text": [
      "2023-12-17 12:03:18.617359: I tensorflow/compiler/mlir/mlir_graph_optimization_pass.cc:388] MLIR V1 optimization pass is not enabled\n",
      "100%|██████████| 25/25 [31:30<00:00, 75.61s/it]\n"
     ]
    }
   ],
   "source": [
    "results = {}\n",
    "for id in tqdm(to_eval):\n",
    "    results[id] = (cf.explain(np.array(x_train.iloc[id]).reshape(1, -1)))"
   ]
  },
  {
   "cell_type": "code",
   "execution_count": 9,
   "metadata": {},
   "outputs": [],
   "source": [
    "with open('results_baseline.pkl', 'wb') as f:\n",
    "    pickle.dump(results, f)"
   ]
  },
  {
   "cell_type": "code",
   "execution_count": null,
   "metadata": {},
   "outputs": [],
   "source": []
  }
 ],
 "metadata": {
  "kernelspec": {
   "display_name": "venv",
   "language": "python",
   "name": "python3"
  },
  "language_info": {
   "codemirror_mode": {
    "name": "ipython",
    "version": 3
   },
   "file_extension": ".py",
   "mimetype": "text/x-python",
   "name": "python",
   "nbconvert_exporter": "python",
   "pygments_lexer": "ipython3",
   "version": "3.11.3"
  }
 },
 "nbformat": 4,
 "nbformat_minor": 2
}
