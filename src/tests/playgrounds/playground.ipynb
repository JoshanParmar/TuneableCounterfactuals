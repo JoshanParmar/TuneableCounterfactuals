{
 "cells": [
  {
   "cell_type": "code",
   "execution_count": 1,
   "metadata": {},
   "outputs": [],
   "source": [
    "import pickle\n",
    "import matplotlib.pyplot as plt\n",
    "\n",
    "import sys \n",
    "sys.path.append('../../')\n",
    "from explainer.single_variable_explainer import SingleVariableExplainer\n",
    "from explainer.explainer import Explainer\n"
   ]
  },
  {
   "cell_type": "code",
   "execution_count": 2,
   "metadata": {},
   "outputs": [],
   "source": [
    "with open('../models/mimic-ii/model.pkl', 'rb') as f:\n",
    "    model = pickle.load(f)\n",
    "with open('../models/mimic-ii/train_X.pkl', 'rb') as f:\n",
    "    train_X = pickle.load(f)"
   ]
  },
  {
   "cell_type": "code",
   "execution_count": 5,
   "metadata": {},
   "outputs": [],
   "source": [
    "explainer = Explainer(\n",
    "    underlying_model=model,\n",
    "    training_dataset=train_X,\n",
    "    target_variable='day_28_flg',\n",
    "    variables=['age', 'bmi', 'weight_first', 'wbc_first']\n",
    ")"
   ]
  },
  {
   "cell_type": "code",
   "execution_count": 10,
   "metadata": {},
   "outputs": [
    {
     "data": {
      "text/plain": [
       "(('bmi', 'wbc_first', 'weight_first', 'age'),\n",
       " {(): 0.01474553411679681,\n",
       "  ('age',): 0.07384738451263306,\n",
       "  ('bmi',): 0.1718743441962992,\n",
       "  ('weight_first',): 0.013124172494298942,\n",
       "  ('wbc_first',): 0.27450703474892324,\n",
       "  ('wbc_first', 'age'): 0.564627787586296,\n",
       "  ('wbc_first', 'bmi'): 0.6088880456147884,\n",
       "  ('wbc_first', 'weight_first'): 0.26707467213586156,\n",
       "  ('wbc_first', 'bmi', 'age'): 0.7170015180776848,\n",
       "  ('wbc_first', 'bmi', 'weight_first'): 0.5938888380870382,\n",
       "  ('wbc_first', 'bmi', 'age', 'weight_first'): 0.6910866427965243,\n",
       "  ('wbc_first', 'bmi', 'weight_first', 'age'): 0.7344365287188628,\n",
       "  ('wbc_first', 'age', 'bmi'): 0.7200733949768234,\n",
       "  ('wbc_first', 'age', 'weight_first'): 0.701961560162174,\n",
       "  ('wbc_first', 'age', 'bmi', 'weight_first'): 0.7233569060451326,\n",
       "  ('wbc_first', 'age', 'weight_first', 'bmi'): 0.7359670975235819,\n",
       "  ('wbc_first', 'weight_first', 'age'): 0.7338178493495884,\n",
       "  ('wbc_first', 'weight_first', 'bmi'): 0.7359670975235819,\n",
       "  ('wbc_first', 'weight_first', 'bmi', 'age'): 0.7332404836902741,\n",
       "  ('wbc_first', 'weight_first', 'age', 'bmi'): 0.7360273704031961,\n",
       "  ('bmi', 'age'): 0.7332404836902741,\n",
       "  ('bmi', 'weight_first'): 0.7356332724697016,\n",
       "  ('bmi', 'wbc_first'): 0.7372545438589864,\n",
       "  ('bmi', 'wbc_first', 'age'): 0.7354334569964363,\n",
       "  ('bmi', 'wbc_first', 'weight_first'): 0.5929182980982534,\n",
       "  ('bmi', 'wbc_first', 'age', 'weight_first'): 0.7247649482596715,\n",
       "  ('bmi', 'wbc_first', 'weight_first', 'age'): 0.7513149579751657})"
      ]
     },
     "execution_count": 10,
     "metadata": {},
     "output_type": "execute_result"
    }
   ],
   "source": [
    "explainer.explain(\n",
    "    train_X.iloc[0],\n",
    "    additional_threshold=0.25\n",
    ")"
   ]
  }
 ],
 "metadata": {
  "kernelspec": {
   "display_name": "venv",
   "language": "python",
   "name": "python3"
  },
  "language_info": {
   "codemirror_mode": {
    "name": "ipython",
    "version": 3
   },
   "file_extension": ".py",
   "mimetype": "text/x-python",
   "name": "python",
   "nbconvert_exporter": "python",
   "pygments_lexer": "ipython3",
   "version": "3.11.3"
  }
 },
 "nbformat": 4,
 "nbformat_minor": 2
}
